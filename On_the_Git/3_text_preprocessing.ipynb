{
 "cells": [
  {
   "cell_type": "code",
   "execution_count": null,
   "id": "3fcad1e7",
   "metadata": {},
   "outputs": [],
   "source": []
  },
  {
   "cell_type": "markdown",
   "id": "1431f8c3",
   "metadata": {},
   "source": [
    "# Text Preprocessiing"
   ]
  },
  {
   "cell_type": "markdown",
   "id": "5c26fe85",
   "metadata": {},
   "source": [
    "## Create Data Sets"
   ]
  },
  {
   "cell_type": "code",
   "execution_count": 1,
   "id": "865e0e3c",
   "metadata": {},
   "outputs": [],
   "source": [
    "import pandas as pd\n",
    "\n",
    "data = [\n",
    "    \"When life gives you lemons, make lemonade! 🙂\",\n",
    "    \"She bought 2 lemons for $1 at Maven Market.\",\n",
    "    \"A dozen lemons will make a gallon of lemonade. [AllRecipes]\",\n",
    "    \"lemon, lemon, lemons, lemon, lemon, lemons\",\n",
    "    \"He's running to the market to get a lemon — there's a great sale today.\",\n",
    "    \"Does Maven Market carry Eureka lemons or Meyer lemons?\",\n",
    "    \"An Arnold Palmer is half lemonade, half iced tea. [Wikipedia]\",\n",
    "    \"iced tea is my favorite\"\n",
    "]\n"
   ]
  },
  {
   "cell_type": "code",
   "execution_count": 2,
   "id": "ee53c28c",
   "metadata": {},
   "outputs": [
    {
     "data": {
      "text/plain": [
       "['When life gives you lemons, make lemonade! 🙂',\n",
       " 'She bought 2 lemons for $1 at Maven Market.',\n",
       " 'A dozen lemons will make a gallon of lemonade. [AllRecipes]',\n",
       " 'lemon, lemon, lemons, lemon, lemon, lemons',\n",
       " \"He's running to the market to get a lemon — there's a great sale today.\",\n",
       " 'Does Maven Market carry Eureka lemons or Meyer lemons?',\n",
       " 'An Arnold Palmer is half lemonade, half iced tea. [Wikipedia]',\n",
       " 'iced tea is my favorite']"
      ]
     },
     "execution_count": 2,
     "metadata": {},
     "output_type": "execute_result"
    }
   ],
   "source": [
    "data"
   ]
  },
  {
   "cell_type": "code",
   "execution_count": 7,
   "id": "7e998f04",
   "metadata": {},
   "outputs": [],
   "source": [
    "pd.set_option('display.max_colwidth', None)"
   ]
  },
  {
   "cell_type": "code",
   "execution_count": 8,
   "id": "4b7ad9ae",
   "metadata": {},
   "outputs": [],
   "source": [
    "data_df = pd.DataFrame(data, columns=['sentence'])"
   ]
  },
  {
   "cell_type": "code",
   "execution_count": 9,
   "id": "01d48d2a",
   "metadata": {},
   "outputs": [
    {
     "data": {
      "text/html": [
       "<div>\n",
       "<style scoped>\n",
       "    .dataframe tbody tr th:only-of-type {\n",
       "        vertical-align: middle;\n",
       "    }\n",
       "\n",
       "    .dataframe tbody tr th {\n",
       "        vertical-align: top;\n",
       "    }\n",
       "\n",
       "    .dataframe thead th {\n",
       "        text-align: right;\n",
       "    }\n",
       "</style>\n",
       "<table border=\"1\" class=\"dataframe\">\n",
       "  <thead>\n",
       "    <tr style=\"text-align: right;\">\n",
       "      <th></th>\n",
       "      <th>sentence</th>\n",
       "    </tr>\n",
       "  </thead>\n",
       "  <tbody>\n",
       "    <tr>\n",
       "      <th>0</th>\n",
       "      <td>When life gives you lemons, make lemonade! 🙂</td>\n",
       "    </tr>\n",
       "    <tr>\n",
       "      <th>1</th>\n",
       "      <td>She bought 2 lemons for $1 at Maven Market.</td>\n",
       "    </tr>\n",
       "    <tr>\n",
       "      <th>2</th>\n",
       "      <td>A dozen lemons will make a gallon of lemonade. [AllRecipes]</td>\n",
       "    </tr>\n",
       "    <tr>\n",
       "      <th>3</th>\n",
       "      <td>lemon, lemon, lemons, lemon, lemon, lemons</td>\n",
       "    </tr>\n",
       "    <tr>\n",
       "      <th>4</th>\n",
       "      <td>He's running to the market to get a lemon — there's a great sale today.</td>\n",
       "    </tr>\n",
       "    <tr>\n",
       "      <th>5</th>\n",
       "      <td>Does Maven Market carry Eureka lemons or Meyer lemons?</td>\n",
       "    </tr>\n",
       "    <tr>\n",
       "      <th>6</th>\n",
       "      <td>An Arnold Palmer is half lemonade, half iced tea. [Wikipedia]</td>\n",
       "    </tr>\n",
       "    <tr>\n",
       "      <th>7</th>\n",
       "      <td>iced tea is my favorite</td>\n",
       "    </tr>\n",
       "  </tbody>\n",
       "</table>\n",
       "</div>"
      ],
      "text/plain": [
       "                                                                  sentence\n",
       "0                             When life gives you lemons, make lemonade! 🙂\n",
       "1                              She bought 2 lemons for $1 at Maven Market.\n",
       "2              A dozen lemons will make a gallon of lemonade. [AllRecipes]\n",
       "3                               lemon, lemon, lemons, lemon, lemon, lemons\n",
       "4  He's running to the market to get a lemon — there's a great sale today.\n",
       "5                   Does Maven Market carry Eureka lemons or Meyer lemons?\n",
       "6            An Arnold Palmer is half lemonade, half iced tea. [Wikipedia]\n",
       "7                                                  iced tea is my favorite"
      ]
     },
     "execution_count": 9,
     "metadata": {},
     "output_type": "execute_result"
    }
   ],
   "source": [
    "data_df"
   ]
  },
  {
   "cell_type": "code",
   "execution_count": 10,
   "id": "6fd62e47",
   "metadata": {},
   "outputs": [
    {
     "data": {
      "text/plain": [
       "0    We're going to start this course with traditional NLP applications.\n",
       "1                               Then we'll move on to modern NLP theory.\n",
       "2            Finally, we'll wrap things up with modern NLP applications.\n",
       "dtype: object"
      ]
     },
     "execution_count": 10,
     "metadata": {},
     "output_type": "execute_result"
    }
   ],
   "source": [
    "# create a test series of sentences for later on\n",
    "test = [\n",
    "    \"We're going to start this course with traditional NLP applications.\",\n",
    "    \"Then we'll move on to modern NLP theory.\",\n",
    "    \"Finally, we'll wrap things up with modern NLP applications.\"\n",
    "]\n",
    "\n",
    "test_series = pd.Series(test)\n",
    "test_series"
   ]
  },
  {
   "cell_type": "markdown",
   "id": "e63e269e",
   "metadata": {},
   "source": [
    "## 1. Text Preprocessing with Pandas"
   ]
  },
  {
   "cell_type": "code",
   "execution_count": 11,
   "id": "c0cf18d1",
   "metadata": {},
   "outputs": [
    {
     "data": {
      "text/html": [
       "<div>\n",
       "<style scoped>\n",
       "    .dataframe tbody tr th:only-of-type {\n",
       "        vertical-align: middle;\n",
       "    }\n",
       "\n",
       "    .dataframe tbody tr th {\n",
       "        vertical-align: top;\n",
       "    }\n",
       "\n",
       "    .dataframe thead th {\n",
       "        text-align: right;\n",
       "    }\n",
       "</style>\n",
       "<table border=\"1\" class=\"dataframe\">\n",
       "  <thead>\n",
       "    <tr style=\"text-align: right;\">\n",
       "      <th></th>\n",
       "      <th>sentence</th>\n",
       "    </tr>\n",
       "  </thead>\n",
       "  <tbody>\n",
       "    <tr>\n",
       "      <th>0</th>\n",
       "      <td>When life gives you lemons, make lemonade! 🙂</td>\n",
       "    </tr>\n",
       "    <tr>\n",
       "      <th>1</th>\n",
       "      <td>She bought 2 lemons for $1 at Maven Market.</td>\n",
       "    </tr>\n",
       "    <tr>\n",
       "      <th>2</th>\n",
       "      <td>A dozen lemons will make a gallon of lemonade. [AllRecipes]</td>\n",
       "    </tr>\n",
       "    <tr>\n",
       "      <th>3</th>\n",
       "      <td>lemon, lemon, lemons, lemon, lemon, lemons</td>\n",
       "    </tr>\n",
       "    <tr>\n",
       "      <th>4</th>\n",
       "      <td>He's running to the market to get a lemon — there's a great sale today.</td>\n",
       "    </tr>\n",
       "    <tr>\n",
       "      <th>5</th>\n",
       "      <td>Does Maven Market carry Eureka lemons or Meyer lemons?</td>\n",
       "    </tr>\n",
       "    <tr>\n",
       "      <th>6</th>\n",
       "      <td>An Arnold Palmer is half lemonade, half iced tea. [Wikipedia]</td>\n",
       "    </tr>\n",
       "    <tr>\n",
       "      <th>7</th>\n",
       "      <td>iced tea is my favorite</td>\n",
       "    </tr>\n",
       "  </tbody>\n",
       "</table>\n",
       "</div>"
      ],
      "text/plain": [
       "                                                                  sentence\n",
       "0                             When life gives you lemons, make lemonade! 🙂\n",
       "1                              She bought 2 lemons for $1 at Maven Market.\n",
       "2              A dozen lemons will make a gallon of lemonade. [AllRecipes]\n",
       "3                               lemon, lemon, lemons, lemon, lemon, lemons\n",
       "4  He's running to the market to get a lemon — there's a great sale today.\n",
       "5                   Does Maven Market carry Eureka lemons or Meyer lemons?\n",
       "6            An Arnold Palmer is half lemonade, half iced tea. [Wikipedia]\n",
       "7                                                  iced tea is my favorite"
      ]
     },
     "execution_count": 11,
     "metadata": {},
     "output_type": "execute_result"
    }
   ],
   "source": [
    "data_df\n"
   ]
  },
  {
   "cell_type": "code",
   "execution_count": 12,
   "id": "a4eabc74",
   "metadata": {},
   "outputs": [
    {
     "data": {
      "text/html": [
       "<div>\n",
       "<style scoped>\n",
       "    .dataframe tbody tr th:only-of-type {\n",
       "        vertical-align: middle;\n",
       "    }\n",
       "\n",
       "    .dataframe tbody tr th {\n",
       "        vertical-align: top;\n",
       "    }\n",
       "\n",
       "    .dataframe thead th {\n",
       "        text-align: right;\n",
       "    }\n",
       "</style>\n",
       "<table border=\"1\" class=\"dataframe\">\n",
       "  <thead>\n",
       "    <tr style=\"text-align: right;\">\n",
       "      <th></th>\n",
       "      <th>sentence</th>\n",
       "    </tr>\n",
       "  </thead>\n",
       "  <tbody>\n",
       "    <tr>\n",
       "      <th>0</th>\n",
       "      <td>When life gives you lemons, make lemonade! 🙂</td>\n",
       "    </tr>\n",
       "    <tr>\n",
       "      <th>1</th>\n",
       "      <td>She bought 2 lemons for $1 at Maven Market.</td>\n",
       "    </tr>\n",
       "    <tr>\n",
       "      <th>2</th>\n",
       "      <td>A dozen lemons will make a gallon of lemonade. [AllRecipes]</td>\n",
       "    </tr>\n",
       "    <tr>\n",
       "      <th>3</th>\n",
       "      <td>lemon, lemon, lemons, lemon, lemon, lemons</td>\n",
       "    </tr>\n",
       "    <tr>\n",
       "      <th>4</th>\n",
       "      <td>He's running to the market to get a lemon — there's a great sale today.</td>\n",
       "    </tr>\n",
       "    <tr>\n",
       "      <th>5</th>\n",
       "      <td>Does Maven Market carry Eureka lemons or Meyer lemons?</td>\n",
       "    </tr>\n",
       "    <tr>\n",
       "      <th>6</th>\n",
       "      <td>An Arnold Palmer is half lemonade, half iced tea. [Wikipedia]</td>\n",
       "    </tr>\n",
       "    <tr>\n",
       "      <th>7</th>\n",
       "      <td>iced tea is my favorite</td>\n",
       "    </tr>\n",
       "  </tbody>\n",
       "</table>\n",
       "</div>"
      ],
      "text/plain": [
       "                                                                  sentence\n",
       "0                             When life gives you lemons, make lemonade! 🙂\n",
       "1                              She bought 2 lemons for $1 at Maven Market.\n",
       "2              A dozen lemons will make a gallon of lemonade. [AllRecipes]\n",
       "3                               lemon, lemon, lemons, lemon, lemon, lemons\n",
       "4  He's running to the market to get a lemon — there's a great sale today.\n",
       "5                   Does Maven Market carry Eureka lemons or Meyer lemons?\n",
       "6            An Arnold Palmer is half lemonade, half iced tea. [Wikipedia]\n",
       "7                                                  iced tea is my favorite"
      ]
     },
     "execution_count": 12,
     "metadata": {},
     "output_type": "execute_result"
    }
   ],
   "source": [
    "df = data_df.copy()\n",
    "df"
   ]
  },
  {
   "cell_type": "code",
   "execution_count": 14,
   "id": "71071e35",
   "metadata": {},
   "outputs": [
    {
     "data": {
      "text/plain": [
       "0                               when life gives you lemons, make lemonade! 🙂\n",
       "1                                she bought 2 lemons for $1 at maven market.\n",
       "2                a dozen lemons will make a gallon of lemonade. [allrecipes]\n",
       "3                                 lemon, lemon, lemons, lemon, lemon, lemons\n",
       "4    he's running to the market to get a lemon — there's a great sale today.\n",
       "5                     does maven market carry eureka lemons or meyer lemons?\n",
       "6              an arnold palmer is half lemonade, half iced tea. [wikipedia]\n",
       "7                                                    iced tea is my favorite\n",
       "Name: sentence, dtype: object"
      ]
     },
     "execution_count": 14,
     "metadata": {},
     "output_type": "execute_result"
    }
   ],
   "source": [
    "# lowercase\n",
    "df['sentence'].str.lower()"
   ]
  },
  {
   "cell_type": "code",
   "execution_count": 15,
   "id": "ca10c815",
   "metadata": {},
   "outputs": [
    {
     "data": {
      "text/plain": [
       "0                               When life gives you lemons, make lemonade! 🙂\n",
       "1                                She bought 2 lemons for $1 at Maven Market.\n",
       "2                A dozen lemons will make a gallon of lemonade. [AllRecipes]\n",
       "3                                 lemon, lemon, lemons, lemon, lemon, lemons\n",
       "4    He's running to the market to get a lemon — there's a great sale today.\n",
       "5                     Does Maven Market carry Eureka lemons or Meyer lemons?\n",
       "6              An Arnold Palmer is half lemonade, half iced tea. [Wikipedia]\n",
       "7                                                    iced tea is my favorite\n",
       "Name: sentence, dtype: object"
      ]
     },
     "execution_count": 15,
     "metadata": {},
     "output_type": "execute_result"
    }
   ],
   "source": [
    "df['sentence']\n"
   ]
  },
  {
   "cell_type": "code",
   "execution_count": 16,
   "id": "d58d7fbe",
   "metadata": {},
   "outputs": [],
   "source": [
    "df['sentence_clean'] = df['sentence'].str.lower()"
   ]
  },
  {
   "cell_type": "code",
   "execution_count": 17,
   "id": "ce4102ff",
   "metadata": {},
   "outputs": [
    {
     "data": {
      "text/html": [
       "<div>\n",
       "<style scoped>\n",
       "    .dataframe tbody tr th:only-of-type {\n",
       "        vertical-align: middle;\n",
       "    }\n",
       "\n",
       "    .dataframe tbody tr th {\n",
       "        vertical-align: top;\n",
       "    }\n",
       "\n",
       "    .dataframe thead th {\n",
       "        text-align: right;\n",
       "    }\n",
       "</style>\n",
       "<table border=\"1\" class=\"dataframe\">\n",
       "  <thead>\n",
       "    <tr style=\"text-align: right;\">\n",
       "      <th></th>\n",
       "      <th>sentence</th>\n",
       "      <th>sentence_clean</th>\n",
       "    </tr>\n",
       "  </thead>\n",
       "  <tbody>\n",
       "    <tr>\n",
       "      <th>0</th>\n",
       "      <td>When life gives you lemons, make lemonade! 🙂</td>\n",
       "      <td>when life gives you lemons, make lemonade! 🙂</td>\n",
       "    </tr>\n",
       "    <tr>\n",
       "      <th>1</th>\n",
       "      <td>She bought 2 lemons for $1 at Maven Market.</td>\n",
       "      <td>she bought 2 lemons for $1 at maven market.</td>\n",
       "    </tr>\n",
       "    <tr>\n",
       "      <th>2</th>\n",
       "      <td>A dozen lemons will make a gallon of lemonade. [AllRecipes]</td>\n",
       "      <td>a dozen lemons will make a gallon of lemonade. [allrecipes]</td>\n",
       "    </tr>\n",
       "    <tr>\n",
       "      <th>3</th>\n",
       "      <td>lemon, lemon, lemons, lemon, lemon, lemons</td>\n",
       "      <td>lemon, lemon, lemons, lemon, lemon, lemons</td>\n",
       "    </tr>\n",
       "    <tr>\n",
       "      <th>4</th>\n",
       "      <td>He's running to the market to get a lemon — there's a great sale today.</td>\n",
       "      <td>he's running to the market to get a lemon — there's a great sale today.</td>\n",
       "    </tr>\n",
       "    <tr>\n",
       "      <th>5</th>\n",
       "      <td>Does Maven Market carry Eureka lemons or Meyer lemons?</td>\n",
       "      <td>does maven market carry eureka lemons or meyer lemons?</td>\n",
       "    </tr>\n",
       "    <tr>\n",
       "      <th>6</th>\n",
       "      <td>An Arnold Palmer is half lemonade, half iced tea. [Wikipedia]</td>\n",
       "      <td>an arnold palmer is half lemonade, half iced tea. [wikipedia]</td>\n",
       "    </tr>\n",
       "    <tr>\n",
       "      <th>7</th>\n",
       "      <td>iced tea is my favorite</td>\n",
       "      <td>iced tea is my favorite</td>\n",
       "    </tr>\n",
       "  </tbody>\n",
       "</table>\n",
       "</div>"
      ],
      "text/plain": [
       "                                                                  sentence  \\\n",
       "0                             When life gives you lemons, make lemonade! 🙂   \n",
       "1                              She bought 2 lemons for $1 at Maven Market.   \n",
       "2              A dozen lemons will make a gallon of lemonade. [AllRecipes]   \n",
       "3                               lemon, lemon, lemons, lemon, lemon, lemons   \n",
       "4  He's running to the market to get a lemon — there's a great sale today.   \n",
       "5                   Does Maven Market carry Eureka lemons or Meyer lemons?   \n",
       "6            An Arnold Palmer is half lemonade, half iced tea. [Wikipedia]   \n",
       "7                                                  iced tea is my favorite   \n",
       "\n",
       "                                                            sentence_clean  \n",
       "0                             when life gives you lemons, make lemonade! 🙂  \n",
       "1                              she bought 2 lemons for $1 at maven market.  \n",
       "2              a dozen lemons will make a gallon of lemonade. [allrecipes]  \n",
       "3                               lemon, lemon, lemons, lemon, lemon, lemons  \n",
       "4  he's running to the market to get a lemon — there's a great sale today.  \n",
       "5                   does maven market carry eureka lemons or meyer lemons?  \n",
       "6            an arnold palmer is half lemonade, half iced tea. [wikipedia]  \n",
       "7                                                  iced tea is my favorite  "
      ]
     },
     "execution_count": 17,
     "metadata": {},
     "output_type": "execute_result"
    }
   ],
   "source": [
    "df"
   ]
  },
  {
   "cell_type": "code",
   "execution_count": 20,
   "id": "c19801b7",
   "metadata": {},
   "outputs": [
    {
     "data": {
      "text/html": [
       "<div>\n",
       "<style scoped>\n",
       "    .dataframe tbody tr th:only-of-type {\n",
       "        vertical-align: middle;\n",
       "    }\n",
       "\n",
       "    .dataframe tbody tr th {\n",
       "        vertical-align: top;\n",
       "    }\n",
       "\n",
       "    .dataframe thead th {\n",
       "        text-align: right;\n",
       "    }\n",
       "</style>\n",
       "<table border=\"1\" class=\"dataframe\">\n",
       "  <thead>\n",
       "    <tr style=\"text-align: right;\">\n",
       "      <th></th>\n",
       "      <th>sentence</th>\n",
       "      <th>sentence_clean</th>\n",
       "    </tr>\n",
       "  </thead>\n",
       "  <tbody>\n",
       "    <tr>\n",
       "      <th>0</th>\n",
       "      <td>When life gives you lemons, make lemonade! 🙂</td>\n",
       "      <td>when life gives you lemons, make lemonade! 🙂</td>\n",
       "    </tr>\n",
       "    <tr>\n",
       "      <th>1</th>\n",
       "      <td>She bought 2 lemons for $1 at Maven Market.</td>\n",
       "      <td>she bought 2 lemons for $1 at maven market.</td>\n",
       "    </tr>\n",
       "    <tr>\n",
       "      <th>2</th>\n",
       "      <td>A dozen lemons will make a gallon of lemonade. [AllRecipes]</td>\n",
       "      <td>a dozen lemons will make a gallon of lemonade.</td>\n",
       "    </tr>\n",
       "    <tr>\n",
       "      <th>3</th>\n",
       "      <td>lemon, lemon, lemons, lemon, lemon, lemons</td>\n",
       "      <td>lemon, lemon, lemons, lemon, lemon, lemons</td>\n",
       "    </tr>\n",
       "    <tr>\n",
       "      <th>4</th>\n",
       "      <td>He's running to the market to get a lemon — there's a great sale today.</td>\n",
       "      <td>he's running to the market to get a lemon — there's a great sale today.</td>\n",
       "    </tr>\n",
       "    <tr>\n",
       "      <th>5</th>\n",
       "      <td>Does Maven Market carry Eureka lemons or Meyer lemons?</td>\n",
       "      <td>does maven market carry eureka lemons or meyer lemons?</td>\n",
       "    </tr>\n",
       "    <tr>\n",
       "      <th>6</th>\n",
       "      <td>An Arnold Palmer is half lemonade, half iced tea. [Wikipedia]</td>\n",
       "      <td>an arnold palmer is half lemonade, half iced tea.</td>\n",
       "    </tr>\n",
       "    <tr>\n",
       "      <th>7</th>\n",
       "      <td>iced tea is my favorite</td>\n",
       "      <td>iced tea is my favorite</td>\n",
       "    </tr>\n",
       "  </tbody>\n",
       "</table>\n",
       "</div>"
      ],
      "text/plain": [
       "                                                                  sentence  \\\n",
       "0                             When life gives you lemons, make lemonade! 🙂   \n",
       "1                              She bought 2 lemons for $1 at Maven Market.   \n",
       "2              A dozen lemons will make a gallon of lemonade. [AllRecipes]   \n",
       "3                               lemon, lemon, lemons, lemon, lemon, lemons   \n",
       "4  He's running to the market to get a lemon — there's a great sale today.   \n",
       "5                   Does Maven Market carry Eureka lemons or Meyer lemons?   \n",
       "6            An Arnold Palmer is half lemonade, half iced tea. [Wikipedia]   \n",
       "7                                                  iced tea is my favorite   \n",
       "\n",
       "                                                            sentence_clean  \n",
       "0                             when life gives you lemons, make lemonade! 🙂  \n",
       "1                              she bought 2 lemons for $1 at maven market.  \n",
       "2                          a dozen lemons will make a gallon of lemonade.   \n",
       "3                               lemon, lemon, lemons, lemon, lemon, lemons  \n",
       "4  he's running to the market to get a lemon — there's a great sale today.  \n",
       "5                   does maven market carry eureka lemons or meyer lemons?  \n",
       "6                       an arnold palmer is half lemonade, half iced tea.   \n",
       "7                                                  iced tea is my favorite  "
      ]
     },
     "execution_count": 20,
     "metadata": {},
     "output_type": "execute_result"
    }
   ],
   "source": [
    "# remove []\n",
    "# ChatGPT: use str.replace with regex=true on a series to replace all text within brackets including the brackets, with an empty string\n",
    "df['sentence_clean'] = df['sentence_clean'].str.replace(r'\\[.*?\\]', '', regex=True)\n",
    "df"
   ]
  },
  {
   "cell_type": "code",
   "execution_count": 21,
   "id": "d3a2d250",
   "metadata": {},
   "outputs": [
    {
     "data": {
      "text/html": [
       "<div>\n",
       "<style scoped>\n",
       "    .dataframe tbody tr th:only-of-type {\n",
       "        vertical-align: middle;\n",
       "    }\n",
       "\n",
       "    .dataframe tbody tr th {\n",
       "        vertical-align: top;\n",
       "    }\n",
       "\n",
       "    .dataframe thead th {\n",
       "        text-align: right;\n",
       "    }\n",
       "</style>\n",
       "<table border=\"1\" class=\"dataframe\">\n",
       "  <thead>\n",
       "    <tr style=\"text-align: right;\">\n",
       "      <th></th>\n",
       "      <th>sentence</th>\n",
       "      <th>sentence_clean</th>\n",
       "    </tr>\n",
       "  </thead>\n",
       "  <tbody>\n",
       "    <tr>\n",
       "      <th>0</th>\n",
       "      <td>When life gives you lemons, make lemonade! 🙂</td>\n",
       "      <td>when life gives you lemons make lemonade</td>\n",
       "    </tr>\n",
       "    <tr>\n",
       "      <th>1</th>\n",
       "      <td>She bought 2 lemons for $1 at Maven Market.</td>\n",
       "      <td>she bought 2 lemons for 1 at maven market</td>\n",
       "    </tr>\n",
       "    <tr>\n",
       "      <th>2</th>\n",
       "      <td>A dozen lemons will make a gallon of lemonade. [AllRecipes]</td>\n",
       "      <td>a dozen lemons will make a gallon of lemonade</td>\n",
       "    </tr>\n",
       "    <tr>\n",
       "      <th>3</th>\n",
       "      <td>lemon, lemon, lemons, lemon, lemon, lemons</td>\n",
       "      <td>lemon lemon lemons lemon lemon lemons</td>\n",
       "    </tr>\n",
       "    <tr>\n",
       "      <th>4</th>\n",
       "      <td>He's running to the market to get a lemon — there's a great sale today.</td>\n",
       "      <td>hes running to the market to get a lemon  theres a great sale today</td>\n",
       "    </tr>\n",
       "    <tr>\n",
       "      <th>5</th>\n",
       "      <td>Does Maven Market carry Eureka lemons or Meyer lemons?</td>\n",
       "      <td>does maven market carry eureka lemons or meyer lemons</td>\n",
       "    </tr>\n",
       "    <tr>\n",
       "      <th>6</th>\n",
       "      <td>An Arnold Palmer is half lemonade, half iced tea. [Wikipedia]</td>\n",
       "      <td>an arnold palmer is half lemonade half iced tea</td>\n",
       "    </tr>\n",
       "    <tr>\n",
       "      <th>7</th>\n",
       "      <td>iced tea is my favorite</td>\n",
       "      <td>iced tea is my favorite</td>\n",
       "    </tr>\n",
       "  </tbody>\n",
       "</table>\n",
       "</div>"
      ],
      "text/plain": [
       "                                                                  sentence  \\\n",
       "0                             When life gives you lemons, make lemonade! 🙂   \n",
       "1                              She bought 2 lemons for $1 at Maven Market.   \n",
       "2              A dozen lemons will make a gallon of lemonade. [AllRecipes]   \n",
       "3                               lemon, lemon, lemons, lemon, lemon, lemons   \n",
       "4  He's running to the market to get a lemon — there's a great sale today.   \n",
       "5                   Does Maven Market carry Eureka lemons or Meyer lemons?   \n",
       "6            An Arnold Palmer is half lemonade, half iced tea. [Wikipedia]   \n",
       "7                                                  iced tea is my favorite   \n",
       "\n",
       "                                                        sentence_clean  \n",
       "0                            when life gives you lemons make lemonade   \n",
       "1                            she bought 2 lemons for 1 at maven market  \n",
       "2                       a dozen lemons will make a gallon of lemonade   \n",
       "3                                lemon lemon lemons lemon lemon lemons  \n",
       "4  hes running to the market to get a lemon  theres a great sale today  \n",
       "5                does maven market carry eureka lemons or meyer lemons  \n",
       "6                     an arnold palmer is half lemonade half iced tea   \n",
       "7                                              iced tea is my favorite  "
      ]
     },
     "execution_count": 21,
     "metadata": {},
     "output_type": "execute_result"
    }
   ],
   "source": [
    "# remove punctuation\n",
    "# ChatGPT: use str.replace with regex=true on a series to replace all punctuation with an empty string\n",
    "df['sentence_clean'] = df['sentence_clean'].str.replace(r'[^\\w\\s]', '', regex=True)\n",
    "df"
   ]
  },
  {
   "cell_type": "code",
   "execution_count": 26,
   "id": "2f1819ce",
   "metadata": {},
   "outputs": [],
   "source": [
    "df['sentence_clean'] = df['sentence'].str.lower()\n",
    "df['sentence_clean'] = df['sentence_clean'].str.replace(r'\\[.*?\\]', '', regex=True)\n",
    "df['sentence_clean'] = df['sentence_clean'].str.replace(r'[^\\w\\s]', '', regex=True)\n",
    "\n",
    "def lower_replace(text):\n",
    "    output = text.str.lower()\n",
    "    output = output.str.replace(r'\\[.*?\\]', '', regex=True)\n",
    "    output = output.str.replace(r'[^\\w\\s]', '', regex=True)\n",
    "    return output"
   ]
  },
  {
   "cell_type": "code",
   "execution_count": 27,
   "id": "f77b9dc5",
   "metadata": {},
   "outputs": [
    {
     "data": {
      "text/plain": [
       "0    We're going to start this course with traditional NLP applications.\n",
       "1                               Then we'll move on to modern NLP theory.\n",
       "2            Finally, we'll wrap things up with modern NLP applications.\n",
       "dtype: object"
      ]
     },
     "execution_count": 27,
     "metadata": {},
     "output_type": "execute_result"
    }
   ],
   "source": [
    "test_series\n"
   ]
  },
  {
   "cell_type": "code",
   "execution_count": 28,
   "id": "1aef29af",
   "metadata": {},
   "outputs": [
    {
     "data": {
      "text/plain": [
       "0    were going to start this course with traditional nlp applications\n",
       "1                               then well move on to modern nlp theory\n",
       "2             finally well wrap things up with modern nlp applications\n",
       "dtype: object"
      ]
     },
     "execution_count": 28,
     "metadata": {},
     "output_type": "execute_result"
    }
   ],
   "source": [
    "lower_replace(test_series)"
   ]
  },
  {
   "cell_type": "code",
   "execution_count": 29,
   "id": "d4e22a0d",
   "metadata": {},
   "outputs": [
    {
     "data": {
      "text/plain": [
       "0                               When life gives you lemons, make lemonade! 🙂\n",
       "1                                She bought 2 lemons for $1 at Maven Market.\n",
       "2                A dozen lemons will make a gallon of lemonade. [AllRecipes]\n",
       "3                                 lemon, lemon, lemons, lemon, lemon, lemons\n",
       "4    He's running to the market to get a lemon — there's a great sale today.\n",
       "5                     Does Maven Market carry Eureka lemons or Meyer lemons?\n",
       "6              An Arnold Palmer is half lemonade, half iced tea. [Wikipedia]\n",
       "7                                                    iced tea is my favorite\n",
       "Name: sentence, dtype: object"
      ]
     },
     "execution_count": 29,
     "metadata": {},
     "output_type": "execute_result"
    }
   ],
   "source": [
    "df.sentence\n",
    "\n"
   ]
  },
  {
   "cell_type": "code",
   "execution_count": 30,
   "id": "82b7323a",
   "metadata": {},
   "outputs": [
    {
     "data": {
      "text/plain": [
       "0                              when life gives you lemons make lemonade \n",
       "1                              she bought 2 lemons for 1 at maven market\n",
       "2                         a dozen lemons will make a gallon of lemonade \n",
       "3                                  lemon lemon lemons lemon lemon lemons\n",
       "4    hes running to the market to get a lemon  theres a great sale today\n",
       "5                  does maven market carry eureka lemons or meyer lemons\n",
       "6                       an arnold palmer is half lemonade half iced tea \n",
       "7                                                iced tea is my favorite\n",
       "Name: sentence, dtype: object"
      ]
     },
     "execution_count": 30,
     "metadata": {},
     "output_type": "execute_result"
    }
   ],
   "source": [
    "lower_replace(df.sentence)"
   ]
  },
  {
   "cell_type": "code",
   "execution_count": null,
   "id": "7c7fcc9d",
   "metadata": {},
   "outputs": [],
   "source": []
  }
 ],
 "metadata": {
  "kernelspec": {
   "display_name": "nlp_basics",
   "language": "python",
   "name": "python3"
  },
  "language_info": {
   "codemirror_mode": {
    "name": "ipython",
    "version": 3
   },
   "file_extension": ".py",
   "mimetype": "text/x-python",
   "name": "python",
   "nbconvert_exporter": "python",
   "pygments_lexer": "ipython3",
   "version": "3.12.11"
  }
 },
 "nbformat": 4,
 "nbformat_minor": 5
}
