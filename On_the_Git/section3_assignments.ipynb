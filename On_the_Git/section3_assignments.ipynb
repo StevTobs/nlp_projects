{
 "cells": [
  {
   "cell_type": "markdown",
   "id": "d972dde1-0b3f-4ade-b6da-49058b216864",
   "metadata": {},
   "source": [
    "# Text Preprocessing Assignments"
   ]
  },
  {
   "cell_type": "markdown",
   "id": "8fcb0760-0f9f-4243-a03f-d11b1ae26d62",
   "metadata": {},
   "source": [
    "## 0. Create a New Environment"
   ]
  },
  {
   "cell_type": "markdown",
   "id": "ef0ee286",
   "metadata": {},
   "source": [
    "Command line code to execute in the Terminal (Mac) or Anaconda Prompt (PC):\n",
    "\n",
    "#### 1. view, create and switch environments\n",
    "```\n",
    "conda env list\n",
    "conda create --name nlp_basics\n",
    "conda env list\n",
    "conda activate nlp_basics\n",
    "```\n",
    "\n",
    "#### 2. install and view packages\n",
    "```\n",
    "conda install python jupyter notebook pandas matplotlib scikit-learn spacy\n",
    "conda list\n",
    "```\n",
    "\n",
    "#### 3. additional spacy download\n",
    "```\n",
    "python -m spacy download en_core_web_sm\n",
    "```"
   ]
  },
  {
   "cell_type": "markdown",
   "id": "e62b33ab-bfb7-433b-8394-7589dea8eacb",
   "metadata": {},
   "source": [
    "## 1. Text Preprocessing with Pandas"
   ]
  },
  {
   "cell_type": "markdown",
   "id": "aa90ff53-dea4-4438-a113-cd2c3ed91a55",
   "metadata": {},
   "source": [
    "1. Read the _childrens_books.csv_ file into a Jupyter Notebook\n",
    "2. Within the Description column:\n",
    "* Make all the text lowercase\n",
    "* Remove all \\xa0 characters\n",
    "* Remove all punctuation"
   ]
  },
  {
   "cell_type": "code",
   "execution_count": 1,
   "id": "c210240a-dd7f-46fb-b806-6d752fe3fc93",
   "metadata": {},
   "outputs": [
    {
     "name": "stdout",
     "output_type": "stream",
     "text": [
      "BASE DIR = /Users/akanitkwangkaew/Documents/Data-Projects/nlp/On_the_Git\n",
      "มีอยู่จริงไหม? -> True\n",
      "/Users/akanitkwangkaew/Documents/Data-Projects/nlp/On_the_Git/dataset.csv\n"
     ]
    }
   ],
   "source": [
    "from dotenv import load_dotenv, find_dotenv\n",
    "from pathlib import Path\n",
    "import os\n",
    "\n",
    "# 1) โหลดไฟล์ .env (ค้นหาเริ่มจากโฟลเดอร์โน้ตบุ๊ก)\n",
    "load_dotenv(find_dotenv(usecwd=True))\n",
    "\n",
    "# 2) ดึงค่าและจัดการเครื่องหมายคำพูด/ขยาย ~\n",
    "raw = os.getenv(\"FILE_PATH\")\n",
    "if not raw:\n",
    "    raise RuntimeError(\"ไม่พบตัวแปร FILE_PATH ใน .env\")\n",
    "base_dir = Path(raw.strip().strip('\"\\'' )).expanduser().resolve()\n",
    "\n",
    "print(\"BASE DIR =\", base_dir)\n",
    "print(\"มีอยู่จริงไหม? ->\", base_dir.exists())\n",
    "\n",
    "# 3) ใช้ join แบบ pathlib (ไม่ต้องห่วงเรื่อง / ท้าย path)\n",
    "some_file = base_dir / \"dataset.csv\"    # ตัวอย่างไฟล์\n",
    "print(some_file)"
   ]
  },
  {
   "cell_type": "code",
   "execution_count": 2,
   "id": "e5035f78-c434-43b9-9679-f55d30d15d0c",
   "metadata": {},
   "outputs": [
    {
     "data": {
      "text/html": [
       "<div>\n",
       "<style scoped>\n",
       "    .dataframe tbody tr th:only-of-type {\n",
       "        vertical-align: middle;\n",
       "    }\n",
       "\n",
       "    .dataframe tbody tr th {\n",
       "        vertical-align: top;\n",
       "    }\n",
       "\n",
       "    .dataframe thead th {\n",
       "        text-align: right;\n",
       "    }\n",
       "</style>\n",
       "<table border=\"1\" class=\"dataframe\">\n",
       "  <thead>\n",
       "    <tr style=\"text-align: right;\">\n",
       "      <th></th>\n",
       "      <th>Ranking</th>\n",
       "      <th>Title</th>\n",
       "      <th>Author</th>\n",
       "      <th>Year</th>\n",
       "      <th>Rating</th>\n",
       "      <th>Description</th>\n",
       "    </tr>\n",
       "  </thead>\n",
       "  <tbody>\n",
       "    <tr>\n",
       "      <th>0</th>\n",
       "      <td>1</td>\n",
       "      <td>Where the Wild Things Are</td>\n",
       "      <td>Maurice Sendak</td>\n",
       "      <td>1963</td>\n",
       "      <td>4.25</td>\n",
       "      <td>Where the Wild Things Are follows Max, a young...</td>\n",
       "    </tr>\n",
       "    <tr>\n",
       "      <th>1</th>\n",
       "      <td>2</td>\n",
       "      <td>The Very Hungry Caterpillar</td>\n",
       "      <td>Eric Carle</td>\n",
       "      <td>1969</td>\n",
       "      <td>4.34</td>\n",
       "      <td>The Very Hungry Caterpillar tells the story of...</td>\n",
       "    </tr>\n",
       "    <tr>\n",
       "      <th>2</th>\n",
       "      <td>3</td>\n",
       "      <td>The Giving Tree</td>\n",
       "      <td>Shel Silverstein</td>\n",
       "      <td>1964</td>\n",
       "      <td>4.38</td>\n",
       "      <td>The Giving Tree is a touching and bittersweet ...</td>\n",
       "    </tr>\n",
       "    <tr>\n",
       "      <th>3</th>\n",
       "      <td>4</td>\n",
       "      <td>Green Eggs and Ham</td>\n",
       "      <td>Dr. Seuss</td>\n",
       "      <td>1960</td>\n",
       "      <td>4.31</td>\n",
       "      <td>In Green Eggs and Ham, Sam-I-Am tries to convi...</td>\n",
       "    </tr>\n",
       "    <tr>\n",
       "      <th>4</th>\n",
       "      <td>5</td>\n",
       "      <td>Goodnight Moon</td>\n",
       "      <td>Margaret Wise Brown</td>\n",
       "      <td>1947</td>\n",
       "      <td>4.31</td>\n",
       "      <td>Goodnight Moon is a gentle, rhythmic bedtime s...</td>\n",
       "    </tr>\n",
       "    <tr>\n",
       "      <th>...</th>\n",
       "      <td>...</td>\n",
       "      <td>...</td>\n",
       "      <td>...</td>\n",
       "      <td>...</td>\n",
       "      <td>...</td>\n",
       "      <td>...</td>\n",
       "    </tr>\n",
       "    <tr>\n",
       "      <th>95</th>\n",
       "      <td>96</td>\n",
       "      <td>Stone Soup</td>\n",
       "      <td>Jon J. Muth</td>\n",
       "      <td>2003</td>\n",
       "      <td>4.18</td>\n",
       "      <td>Stone Soup is a classic folktale retold by Jon...</td>\n",
       "    </tr>\n",
       "    <tr>\n",
       "      <th>96</th>\n",
       "      <td>97</td>\n",
       "      <td>A Light in the Attic</td>\n",
       "      <td>Shel Silverstein</td>\n",
       "      <td>1981</td>\n",
       "      <td>4.36</td>\n",
       "      <td>A Light in the Attic is a collection of quirky...</td>\n",
       "    </tr>\n",
       "    <tr>\n",
       "      <th>97</th>\n",
       "      <td>98</td>\n",
       "      <td>Harry Potter and the Prisoner of Azkaban (Harr...</td>\n",
       "      <td>J.K. Rowling</td>\n",
       "      <td>1999</td>\n",
       "      <td>4.58</td>\n",
       "      <td>Harry Potter and the Prisoner of Azkaban is th...</td>\n",
       "    </tr>\n",
       "    <tr>\n",
       "      <th>98</th>\n",
       "      <td>99</td>\n",
       "      <td>Harry Potter and the Chamber of Secrets (Harry...</td>\n",
       "      <td>J.K. Rowling</td>\n",
       "      <td>1998</td>\n",
       "      <td>4.43</td>\n",
       "      <td>Harry Potter and the Chamber of Secrets is the...</td>\n",
       "    </tr>\n",
       "    <tr>\n",
       "      <th>99</th>\n",
       "      <td>100</td>\n",
       "      <td>The Three Billy Goats Gruff</td>\n",
       "      <td>Paul Galdone</td>\n",
       "      <td>1973</td>\n",
       "      <td>4.17</td>\n",
       "      <td>The Three Billy Goats Gruff is a retelling of ...</td>\n",
       "    </tr>\n",
       "  </tbody>\n",
       "</table>\n",
       "<p>100 rows × 6 columns</p>\n",
       "</div>"
      ],
      "text/plain": [
       "    Ranking                                              Title  \\\n",
       "0         1                          Where the Wild Things Are   \n",
       "1         2                        The Very Hungry Caterpillar   \n",
       "2         3                                    The Giving Tree   \n",
       "3         4                                 Green Eggs and Ham   \n",
       "4         5                                     Goodnight Moon   \n",
       "..      ...                                                ...   \n",
       "95       96                                         Stone Soup   \n",
       "96       97                               A Light in the Attic   \n",
       "97       98  Harry Potter and the Prisoner of Azkaban (Harr...   \n",
       "98       99  Harry Potter and the Chamber of Secrets (Harry...   \n",
       "99      100                        The Three Billy Goats Gruff   \n",
       "\n",
       "                 Author  Year Rating  \\\n",
       "0        Maurice Sendak  1963   4.25   \n",
       "1            Eric Carle  1969   4.34   \n",
       "2      Shel Silverstein  1964   4.38   \n",
       "3             Dr. Seuss  1960   4.31   \n",
       "4   Margaret Wise Brown  1947   4.31   \n",
       "..                  ...   ...    ...   \n",
       "95          Jon J. Muth  2003   4.18   \n",
       "96     Shel Silverstein  1981   4.36   \n",
       "97         J.K. Rowling  1999   4.58   \n",
       "98         J.K. Rowling  1998   4.43   \n",
       "99         Paul Galdone  1973   4.17   \n",
       "\n",
       "                                          Description  \n",
       "0   Where the Wild Things Are follows Max, a young...  \n",
       "1   The Very Hungry Caterpillar tells the story of...  \n",
       "2   The Giving Tree is a touching and bittersweet ...  \n",
       "3   In Green Eggs and Ham, Sam-I-Am tries to convi...  \n",
       "4   Goodnight Moon is a gentle, rhythmic bedtime s...  \n",
       "..                                                ...  \n",
       "95  Stone Soup is a classic folktale retold by Jon...  \n",
       "96  A Light in the Attic is a collection of quirky...  \n",
       "97  Harry Potter and the Prisoner of Azkaban is th...  \n",
       "98  Harry Potter and the Chamber of Secrets is the...  \n",
       "99  The Three Billy Goats Gruff is a retelling of ...  \n",
       "\n",
       "[100 rows x 6 columns]"
      ]
     },
     "execution_count": 2,
     "metadata": {},
     "output_type": "execute_result"
    }
   ],
   "source": [
    "import pandas as pd\n",
    "\n",
    "data_file = base_dir / \"Data/childrens_books.csv\"\n",
    "df =  pd.read_csv(data_file)\n",
    "df"
   ]
  },
  {
   "cell_type": "markdown",
   "id": "22aaa4ea",
   "metadata": {},
   "source": [
    "* Make all the text lowercase\n",
    "* Remove all \\xa0 characters\n",
    "* Remove all punctuation"
   ]
  },
  {
   "cell_type": "code",
   "execution_count": 4,
   "id": "37329fc5",
   "metadata": {},
   "outputs": [
    {
     "data": {
      "text/plain": [
       "0    where the wild things are follows max, a young...\n",
       "1    the very hungry caterpillar tells the story of...\n",
       "2    the giving tree is a touching and bittersweet ...\n",
       "3    in green eggs and ham, sam-i-am tries to convi...\n",
       "4    goodnight moon is a gentle, rhythmic bedtime s...\n",
       "Name: Description_clean, dtype: object"
      ]
     },
     "execution_count": 4,
     "metadata": {},
     "output_type": "execute_result"
    }
   ],
   "source": [
    "df['Description_clean'] = df['Description'].str.lower()\n",
    "df['Description_clean'].head()"
   ]
  },
  {
   "cell_type": "code",
   "execution_count": 8,
   "id": "1edca929",
   "metadata": {},
   "outputs": [
    {
     "data": {
      "text/plain": [
       "0     where the wild things are follows max, a young...\n",
       "1     the very hungry caterpillar tells the story of...\n",
       "2     the giving tree is a touching and bittersweet ...\n",
       "3     in green eggs and ham, sam-i-am tries to convi...\n",
       "4     goodnight moon is a gentle, rhythmic bedtime s...\n",
       "                            ...                        \n",
       "95    stone soup is a classic folktale retold by jon...\n",
       "96    a light in the attic is a collection of quirky...\n",
       "97    harry potter and the prisoner of azkaban is th...\n",
       "98    harry potter and the chamber of secrets is the...\n",
       "99    the three billy goats gruff is a retelling of ...\n",
       "Name: Description_clean, Length: 100, dtype: object"
      ]
     },
     "execution_count": 8,
     "metadata": {},
     "output_type": "execute_result"
    }
   ],
   "source": [
    "# remove text between brackets, including the brackets\n",
    "df['Description_clean'] = df['Description_clean'].str.replace(r'\\[.*?\\]', '', regex=True)\n",
    "df['Description_clean']"
   ]
  },
  {
   "cell_type": "code",
   "execution_count": 9,
   "id": "0203a309",
   "metadata": {},
   "outputs": [
    {
     "data": {
      "text/plain": [
       "0     where the wild things are follows max a young ...\n",
       "1     the very hungry caterpillar tells the story of...\n",
       "2     the giving tree is a touching and bittersweet ...\n",
       "3     in green eggs and ham samiam tries to convince...\n",
       "4     goodnight moon is a gentle rhythmic bedtime st...\n",
       "                            ...                        \n",
       "95    stone soup is a classic folktale retold by jon...\n",
       "96    a light in the attic is a collection of quirky...\n",
       "97    harry potter and the prisoner of azkaban is th...\n",
       "98    harry potter and the chamber of secrets is the...\n",
       "99    the three billy goats gruff is a retelling of ...\n",
       "Name: Description_clean, Length: 100, dtype: object"
      ]
     },
     "execution_count": 9,
     "metadata": {},
     "output_type": "execute_result"
    }
   ],
   "source": [
    "# remove punctuation\n",
    "df['Description_clean'] = df['Description_clean'].str.replace(r'[^\\w\\s]', '', regex=True)\n",
    "df['Description_clean']"
   ]
  },
  {
   "cell_type": "code",
   "execution_count": 11,
   "id": "91248055",
   "metadata": {},
   "outputs": [
    {
     "data": {
      "text/html": [
       "<div>\n",
       "<style scoped>\n",
       "    .dataframe tbody tr th:only-of-type {\n",
       "        vertical-align: middle;\n",
       "    }\n",
       "\n",
       "    .dataframe tbody tr th {\n",
       "        vertical-align: top;\n",
       "    }\n",
       "\n",
       "    .dataframe thead th {\n",
       "        text-align: right;\n",
       "    }\n",
       "</style>\n",
       "<table border=\"1\" class=\"dataframe\">\n",
       "  <thead>\n",
       "    <tr style=\"text-align: right;\">\n",
       "      <th></th>\n",
       "      <th>Ranking</th>\n",
       "      <th>Title</th>\n",
       "      <th>Author</th>\n",
       "      <th>Year</th>\n",
       "      <th>Rating</th>\n",
       "      <th>Description</th>\n",
       "      <th>Description_clean</th>\n",
       "    </tr>\n",
       "  </thead>\n",
       "  <tbody>\n",
       "    <tr>\n",
       "      <th>0</th>\n",
       "      <td>1</td>\n",
       "      <td>Where the Wild Things Are</td>\n",
       "      <td>Maurice Sendak</td>\n",
       "      <td>1963</td>\n",
       "      <td>4.25</td>\n",
       "      <td>Where the Wild Things Are follows Max, a young...</td>\n",
       "      <td>where the wild things are follows max a young ...</td>\n",
       "    </tr>\n",
       "    <tr>\n",
       "      <th>1</th>\n",
       "      <td>2</td>\n",
       "      <td>The Very Hungry Caterpillar</td>\n",
       "      <td>Eric Carle</td>\n",
       "      <td>1969</td>\n",
       "      <td>4.34</td>\n",
       "      <td>The Very Hungry Caterpillar tells the story of...</td>\n",
       "      <td>the very hungry caterpillar tells the story of...</td>\n",
       "    </tr>\n",
       "  </tbody>\n",
       "</table>\n",
       "</div>"
      ],
      "text/plain": [
       "   Ranking                        Title          Author  Year Rating  \\\n",
       "0        1    Where the Wild Things Are  Maurice Sendak  1963   4.25   \n",
       "1        2  The Very Hungry Caterpillar      Eric Carle  1969   4.34   \n",
       "\n",
       "                                         Description  \\\n",
       "0  Where the Wild Things Are follows Max, a young...   \n",
       "1  The Very Hungry Caterpillar tells the story of...   \n",
       "\n",
       "                                   Description_clean  \n",
       "0  where the wild things are follows max a young ...  \n",
       "1  the very hungry caterpillar tells the story of...  "
      ]
     },
     "execution_count": 11,
     "metadata": {},
     "output_type": "execute_result"
    }
   ],
   "source": [
    "# remove all \\xa0 characters\n",
    "df['Description_clean'] = df['Description_clean'].str.replace('\\xa0', ' ')\n",
    "df.head(2)"
   ]
  },
  {
   "cell_type": "code",
   "execution_count": null,
   "id": "bca5e789",
   "metadata": {},
   "outputs": [],
   "source": []
  },
  {
   "cell_type": "markdown",
   "id": "43cac333-a01e-4dec-a2b8-bf130a1e9e99",
   "metadata": {},
   "source": [
    "## 2. Text Preprocessing with spaCy"
   ]
  },
  {
   "cell_type": "markdown",
   "id": "f4664502-df12-4524-a91a-393c6775b8dd",
   "metadata": {},
   "source": [
    "In addition to the lowercasing and special character removal from the previous assignment, within the cleaned Description column:\n",
    "* Tokenize the text\n",
    "* Lemmatize the text\n",
    "* Remove stop words"
   ]
  },
  {
   "cell_type": "code",
   "execution_count": null,
   "id": "88c3be64-1530-4338-917e-6b5ba0bd92bf",
   "metadata": {},
   "outputs": [],
   "source": []
  },
  {
   "cell_type": "code",
   "execution_count": null,
   "id": "7234286e-9a3f-405b-aa39-c3a21829a47f",
   "metadata": {},
   "outputs": [],
   "source": []
  },
  {
   "cell_type": "code",
   "execution_count": null,
   "id": "3edcb1a5-e81c-4e51-92ce-3f536ca72166",
   "metadata": {},
   "outputs": [],
   "source": []
  },
  {
   "cell_type": "markdown",
   "id": "fa7bd356-794c-42d3-96c6-3b5fc13d261a",
   "metadata": {},
   "source": [
    "## 3. Count Vectorizer"
   ]
  },
  {
   "cell_type": "markdown",
   "id": "2e5a8c9b-94f2-4070-b988-44f7f5c5e13b",
   "metadata": {},
   "source": [
    "1. Vectorize the cleaned and normalized text using Count Vectorizer with the default parameters\n",
    "2. Modify the Count Vectorizer parameters to reduce the number of columns:\n",
    "* Remove stop words\n",
    "* Set a minimum document frequency of 10%\n",
    "3. Use the updated Count Vectorizer to identify the:\n",
    "* Top 10 most common terms\n",
    "* Top 10 least common terms that appear in at least 10% of the documents\n",
    "4. Create a horizontal bar chart of the top 10 most common terms"
   ]
  },
  {
   "cell_type": "code",
   "execution_count": null,
   "id": "e91d33a9-f9d0-4613-8714-7a0bdcb4ddae",
   "metadata": {},
   "outputs": [],
   "source": []
  },
  {
   "cell_type": "code",
   "execution_count": null,
   "id": "9325bbe5-d7a4-4e79-ad40-2416baeed08a",
   "metadata": {},
   "outputs": [],
   "source": []
  },
  {
   "cell_type": "code",
   "execution_count": null,
   "id": "5a8fb639-8b8c-4868-ab9e-4b7bcc36aaa4",
   "metadata": {},
   "outputs": [],
   "source": []
  },
  {
   "cell_type": "markdown",
   "id": "0ff5d6e1-d4e4-42dc-bf62-e5bd638ef96a",
   "metadata": {},
   "source": [
    "## 4. TF-IDF Vectorizer"
   ]
  },
  {
   "cell_type": "markdown",
   "id": "fee4772b-979a-4386-ae05-f279b432c4e5",
   "metadata": {},
   "source": [
    "1. Vectorize the cleaned and normalized text using TF-IDF Vectorizer with the default parameters\n",
    "2. Modify the TF-IDF Vectorizer parameters to reduce the number of columns:\n",
    "* Remove stop words\n",
    "* Set a minimum document frequency of 10%\n",
    "* Set a maximum document frequency of 50%\n",
    "3. Using the updated TF-IDF Vectorizer, create a  horizontal bar chart of the top 10 most highly weighted terms\n",
    "4. Compare the Count Vectorizer bar chart from the previous assignment with the TF-IDF Vectorizer bar chart and note the differences in the top term lists"
   ]
  },
  {
   "cell_type": "code",
   "execution_count": null,
   "id": "fa5abbcd-7698-4d79-9f22-3de97958954d",
   "metadata": {},
   "outputs": [],
   "source": []
  },
  {
   "cell_type": "code",
   "execution_count": null,
   "id": "c34ac3e1-fc4b-4e9f-a8f3-f85883e5eebd",
   "metadata": {},
   "outputs": [],
   "source": []
  },
  {
   "cell_type": "code",
   "execution_count": null,
   "id": "e1cfdc4c-d3f8-4bd7-bfb7-109345f995ad",
   "metadata": {},
   "outputs": [],
   "source": []
  }
 ],
 "metadata": {
  "kernelspec": {
   "display_name": "nlp_basics",
   "language": "python",
   "name": "python3"
  },
  "language_info": {
   "codemirror_mode": {
    "name": "ipython",
    "version": 3
   },
   "file_extension": ".py",
   "mimetype": "text/x-python",
   "name": "python",
   "nbconvert_exporter": "python",
   "pygments_lexer": "ipython3",
   "version": "3.12.11"
  }
 },
 "nbformat": 4,
 "nbformat_minor": 5
}
